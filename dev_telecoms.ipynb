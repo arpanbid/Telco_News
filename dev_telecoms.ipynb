{
 "cells": [
  {
   "cell_type": "code",
   "execution_count": null,
   "metadata": {},
   "outputs": [],
   "source": [
    "from bs4 import BeautifulSoup\n",
    "import requests\n",
    "import pandas as pd\n",
    "\n",
    "data=[]"
   ]
  },
  {
   "cell_type": "code",
   "execution_count": null,
   "metadata": {},
   "outputs": [],
   "source": [
    "def read_links():\n",
    "    a=[]\n",
    "    f = open(\"Data/dev_telecom_urls.txt\", \"r\")\n",
    "    #print(f.readlines())\n",
    "    for line in f:\n",
    "        a.append(str(line.strip()))\n",
    "    return(a)\n",
    "\n"
   ]
  },
  {
   "cell_type": "code",
   "execution_count": 3,
   "metadata": {},
   "outputs": [],
   "source": [
    "def developingtelecoms_scrap(path):\n",
    "  baseURL=\"https://developingtelecoms.com\"\n",
    "  URL=baseURL + path\n",
    "  print(\"Fetching: \", URL)\n",
    "  \n",
    "  headers = {\n",
    "    'Accept': 'text/html,application/xhtml+xml,application/xml;q=0.9,*/*;q=0.8',\n",
    "    'Sec-Fetch-Site': 'same-origin',\n",
    "    'Sec-Fetch-Dest': 'document',\n",
    "    'Accept-Language': 'en-US,en;q=0.9',\n",
    "    'Sec-Fetch-Mode': 'navigate',\n",
    "    'Host': 'developingtelecoms.com',\n",
    "    'User-Agent': 'Mozilla/5.0 (Macintosh; Intel Mac OS X 10_15_7) AppleWebKit/605.1.15 (KHTML, like Gecko) Version/17.4 Safari/605.1.15',\n",
    "    #'Referer': 'https://developingtelecoms.com/regions/sub-saharan-africa-telecommunications.html',\n",
    "    'Connection': 'keep-alive',\n",
    "  }\n",
    "\n",
    "  try:\n",
    "    source = requests.get(URL, headers=headers)\n",
    "    soup = BeautifulSoup(source.text,'html.parser')\n",
    "    heading = soup.find_all('h2', class_=\"article-title\")\n",
    "    date = soup.find_all('dd', class_=\"published\")\n",
    "    content = soup.find_all('section', class_=\"article-intro clearfix\") \n",
    "\n",
    "    i=0\n",
    "    while i<50:\n",
    "      item={}\n",
    "\n",
    "\n",
    "      title=heading[i].text\n",
    "      #title=title.strip().rsplit(\"\\t\\n\")[1]\n",
    "      item[\"Title\"] = title.strip()\n",
    "\n",
    "      abstract=content[i].text\n",
    "      item[\"Abstract\"] = abstract.strip()\n",
    "\n",
    "      \n",
    "\n",
    "\n",
    "      Date=date[i].text\n",
    "      #Date=Date.strip().rsplit(\"Created on \")[1]\n",
    "      item[\"Date\"] = Date.strip() \n",
    "\n",
    "      li=heading[i].find(href=True)\n",
    "      item[\"Links\"]=baseURL+li['href']\n",
    "\n",
    "      data.append(item)\n",
    "      i+=1\n",
    "\n",
    "  except Exception as e:\n",
    "    print(\"Error \", e)\n",
    "\n",
    "\n"
   ]
  },
  {
   "cell_type": "code",
   "execution_count": null,
   "metadata": {},
   "outputs": [],
   "source": [
    "from time import sleep\n",
    "\n",
    "links = read_links()\n",
    "\n",
    "for link in links:\n",
    "    developingtelecoms_scrap(link)\n",
    "    sleep(5)\n",
    "\n",
    "df = pd.DataFrame(data)\n",
    "df['Date'] = pd.to_datetime(df['Date'], format=\"mixed\")\n"
   ]
  },
  {
   "cell_type": "code",
   "execution_count": null,
   "metadata": {},
   "outputs": [],
   "source": [
    "cur_data = pd.read_csv(\"Data/dev_news_date.csv\")\n",
    "last_updated = cur_data[\"Date\"].min()\n",
    "filtered_df = df[df[\"Date\"]>last_updated]\n",
    "h=pd.concat([cur_data, filtered_df], ignore_index = True)\n",
    "h.to_csv(\"Data/dev_news_date.csv\", index=False) #for safer side, create another version of the file\n",
    "\n",
    "\n",
    "\n",
    "\n"
   ]
  },
  {
   "cell_type": "code",
   "execution_count": 25,
   "metadata": {},
   "outputs": [
    {
     "name": "stdout",
     "output_type": "stream",
     "text": [
      "7548 240871\n"
     ]
    }
   ],
   "source": [
    "import pandas as pd\n",
    "d_df = pd.read_csv(\"Data/dev_news_date.csv\")\n",
    "n_df = pd.read_csv(\"News.csv\")\n",
    "\n",
    "print(str(len(d_df)) + \" \" + str(len(n_df)))"
   ]
  },
  {
   "cell_type": "code",
   "execution_count": 26,
   "metadata": {},
   "outputs": [
    {
     "data": {
      "text/plain": [
       "Index(['Title', 'Abstract', 'Date', 'Links'], dtype='object')"
      ]
     },
     "execution_count": 26,
     "metadata": {},
     "output_type": "execute_result"
    }
   ],
   "source": [
    "d_df.columns"
   ]
  },
  {
   "cell_type": "code",
   "execution_count": 27,
   "metadata": {},
   "outputs": [
    {
     "data": {
      "text/plain": [
       "Index(['date', 'title', 'slug', 'abstract', 'country.id', 'country.name',\n",
       "       'country.__typename', 'country'],\n",
       "      dtype='object')"
      ]
     },
     "execution_count": 27,
     "metadata": {},
     "output_type": "execute_result"
    }
   ],
   "source": [
    "n_df.columns"
   ]
  },
  {
   "cell_type": "code",
   "execution_count": 24,
   "metadata": {},
   "outputs": [],
   "source": []
  },
  {
   "cell_type": "code",
   "execution_count": 33,
   "metadata": {},
   "outputs": [],
   "source": []
  },
  {
   "cell_type": "code",
   "execution_count": 35,
   "metadata": {},
   "outputs": [],
   "source": [
    "li = []\n",
    "\n",
    "for ar in arr:\n",
    "    li.append(ar)"
   ]
  },
  {
   "cell_type": "code",
   "execution_count": null,
   "metadata": {},
   "outputs": [],
   "source": [
    "li"
   ]
  },
  {
   "cell_type": "code",
   "execution_count": 38,
   "metadata": {},
   "outputs": [],
   "source": [
    "with open(\"Data/country_list.txt\", 'w') as output:\n",
    "    for row in li:\n",
    "        output.write(str(row) + '\\n')"
   ]
  },
  {
   "cell_type": "code",
   "execution_count": null,
   "metadata": {},
   "outputs": [],
   "source": []
  }
 ],
 "metadata": {
  "kernelspec": {
   "display_name": "Python 3",
   "language": "python",
   "name": "python3"
  },
  "language_info": {
   "codemirror_mode": {
    "name": "ipython",
    "version": 3
   },
   "file_extension": ".py",
   "mimetype": "text/x-python",
   "name": "python",
   "nbconvert_exporter": "python",
   "pygments_lexer": "ipython3",
   "version": "3.10.5"
  }
 },
 "nbformat": 4,
 "nbformat_minor": 2
}
